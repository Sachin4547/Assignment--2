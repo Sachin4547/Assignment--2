{
 "cells": [
  {
   "cell_type": "code",
   "execution_count": 10,
   "id": "aa593dd2-3bf7-43ea-bee3-6efad5ceb370",
   "metadata": {},
   "outputs": [
    {
     "name": "stdout",
     "output_type": "stream",
     "text": [
      "we comment in python by the help of various keys in the keybord this can be # By using these functions we can comment in python\n"
     ]
    },
    {
     "data": {
      "text/plain": [
       "'this is also a way to write comment in python. this line is itself an example the way in which i have written'"
      ]
     },
     "execution_count": 10,
     "metadata": {},
     "output_type": "execute_result"
    }
   ],
   "source": [
    "print('we comment in python by the help of various keys in the keybord this can be # By using these functions we can comment in python')\n",
    "'''this is also a way to write comment in python. this line is itself an example the way in which i have written'''\n",
    "#i will play"
   ]
  },
  {
   "cell_type": "code",
   "execution_count": 7,
   "id": "06ec9857-d099-4205-bfa3-f09d9b79f50d",
   "metadata": {},
   "outputs": [],
   "source": [
    "'''There are various types of variables which we use in python. Following are the example given below'''\n",
    "a = 2.5\n",
    "b = 75\n",
    "c = \"Sachin Rao\"\n",
    "d = {1,2,3}\n",
    "e = {'apple':'brand'}\n",
    "f = (1,2,3,\"Sachin\")\n",
    "g = [1,2,3,4,\"Takshu\"]\n",
    "\n",
    "\n",
    "\n",
    "\n",
    "\n",
    "\n"
   ]
  },
  {
   "cell_type": "code",
   "execution_count": 8,
   "id": "cc23e5b2-9f1f-4dd2-b0d5-1abd627d492a",
   "metadata": {},
   "outputs": [
    {
     "data": {
      "text/plain": [
       "float"
      ]
     },
     "execution_count": 8,
     "metadata": {},
     "output_type": "execute_result"
    }
   ],
   "source": [
    "type(a)"
   ]
  },
  {
   "cell_type": "code",
   "execution_count": 9,
   "id": "38892d8b-d536-4f69-abc1-6a1446b1fcb9",
   "metadata": {},
   "outputs": [
    {
     "data": {
      "text/plain": [
       "int"
      ]
     },
     "execution_count": 9,
     "metadata": {},
     "output_type": "execute_result"
    }
   ],
   "source": [
    "type(b)"
   ]
  },
  {
   "cell_type": "code",
   "execution_count": 10,
   "id": "4ffdf431-842e-4317-b249-21c97b6a645f",
   "metadata": {},
   "outputs": [
    {
     "data": {
      "text/plain": [
       "str"
      ]
     },
     "execution_count": 10,
     "metadata": {},
     "output_type": "execute_result"
    }
   ],
   "source": [
    "type(c)"
   ]
  },
  {
   "cell_type": "code",
   "execution_count": 11,
   "id": "c102637d-01cb-4517-8583-86abe319e775",
   "metadata": {},
   "outputs": [
    {
     "data": {
      "text/plain": [
       "set"
      ]
     },
     "execution_count": 11,
     "metadata": {},
     "output_type": "execute_result"
    }
   ],
   "source": [
    "type(d)"
   ]
  },
  {
   "cell_type": "code",
   "execution_count": 12,
   "id": "90c00905-83a5-472e-8b84-c896e50330e2",
   "metadata": {},
   "outputs": [
    {
     "data": {
      "text/plain": [
       "dict"
      ]
     },
     "execution_count": 12,
     "metadata": {},
     "output_type": "execute_result"
    }
   ],
   "source": [
    "type(e)"
   ]
  },
  {
   "cell_type": "code",
   "execution_count": 13,
   "id": "8008a0c5-1b55-44e4-bd6b-eab729c1ed7a",
   "metadata": {},
   "outputs": [
    {
     "data": {
      "text/plain": [
       "tuple"
      ]
     },
     "execution_count": 13,
     "metadata": {},
     "output_type": "execute_result"
    }
   ],
   "source": [
    "type(f)"
   ]
  },
  {
   "cell_type": "code",
   "execution_count": 14,
   "id": "e297dcc9-e88c-4ab0-92ae-d5269768df96",
   "metadata": {},
   "outputs": [
    {
     "data": {
      "text/plain": [
       "list"
      ]
     },
     "execution_count": 14,
     "metadata": {},
     "output_type": "execute_result"
    }
   ],
   "source": [
    "type(g)"
   ]
  },
  {
   "cell_type": "code",
   "execution_count": 15,
   "id": "9419f55d-fd59-4c8c-a540-b63c30a0e908",
   "metadata": {},
   "outputs": [],
   "source": [
    "#we convert one data type in python to another by using different functions like int , str , float and using different names in the front of words for example are given below\n"
   ]
  },
  {
   "cell_type": "code",
   "execution_count": 16,
   "id": "721450c1-6003-4394-af55-0c99293a2c2f",
   "metadata": {},
   "outputs": [],
   "source": [
    "b = 8"
   ]
  },
  {
   "cell_type": "code",
   "execution_count": 17,
   "id": "564dc586-abfb-41a7-9d8f-b89cabb20587",
   "metadata": {},
   "outputs": [
    {
     "data": {
      "text/plain": [
       "int"
      ]
     },
     "execution_count": 17,
     "metadata": {},
     "output_type": "execute_result"
    }
   ],
   "source": [
    "type(b)"
   ]
  },
  {
   "cell_type": "code",
   "execution_count": 18,
   "id": "abd6b3c2-0baa-4d3a-9718-3a8636a8b7fd",
   "metadata": {},
   "outputs": [],
   "source": [
    "b = '8' # by using '' it has been coverted into string from int to str."
   ]
  },
  {
   "cell_type": "code",
   "execution_count": 19,
   "id": "023841f7-ded4-4628-948d-9b9fc2a7ecae",
   "metadata": {},
   "outputs": [
    {
     "data": {
      "text/plain": [
       "str"
      ]
     },
     "execution_count": 19,
     "metadata": {},
     "output_type": "execute_result"
    }
   ],
   "source": [
    "type(b)"
   ]
  },
  {
   "cell_type": "code",
   "execution_count": 20,
   "id": "f2d04679-dc5d-43fb-a117-7f70254b3460",
   "metadata": {},
   "outputs": [
    {
     "name": "stdin",
     "output_type": "stream",
     "text": [
      " 5\n"
     ]
    },
    {
     "data": {
      "text/plain": [
       "'5'"
      ]
     },
     "execution_count": 20,
     "metadata": {},
     "output_type": "execute_result"
    }
   ],
   "source": [
    "input()"
   ]
  },
  {
   "cell_type": "code",
   "execution_count": 21,
   "id": "5ecfac19-d944-49f3-bd6e-644840ae66ee",
   "metadata": {},
   "outputs": [
    {
     "name": "stdin",
     "output_type": "stream",
     "text": [
      " 5\n"
     ]
    },
    {
     "data": {
      "text/plain": [
       "str"
      ]
     },
     "execution_count": 21,
     "metadata": {},
     "output_type": "execute_result"
    }
   ],
   "source": [
    "type(input())"
   ]
  },
  {
   "cell_type": "code",
   "execution_count": 23,
   "id": "10050eb8-f873-4e0d-9235-185f15c56373",
   "metadata": {},
   "outputs": [
    {
     "name": "stdin",
     "output_type": "stream",
     "text": [
      " 5\n"
     ]
    },
    {
     "data": {
      "text/plain": [
       "int"
      ]
     },
     "execution_count": 23,
     "metadata": {},
     "output_type": "execute_result"
    }
   ],
   "source": [
    "type(int(input())) # by using int in the starting now we can see that the string has been converted into the integer."
   ]
  },
  {
   "cell_type": "code",
   "execution_count": 3,
   "id": "2be0e23c-723e-432c-aa01-cd74badc4751",
   "metadata": {},
   "outputs": [],
   "source": [
    "my_list = [1,2,3,4,5]"
   ]
  },
  {
   "cell_type": "code",
   "execution_count": 4,
   "id": "eaf72c91-3381-44ab-861f-9dcdc9c0837a",
   "metadata": {},
   "outputs": [
    {
     "data": {
      "text/plain": [
       "[1, 2, 3, 4, 5]"
      ]
     },
     "execution_count": 4,
     "metadata": {},
     "output_type": "execute_result"
    }
   ],
   "source": [
    "my_list"
   ]
  },
  {
   "cell_type": "code",
   "execution_count": 5,
   "id": "f4666698-667e-46aa-9d5d-96d3b33c2d94",
   "metadata": {},
   "outputs": [],
   "source": [
    "my_list.remove(1)"
   ]
  },
  {
   "cell_type": "code",
   "execution_count": 7,
   "id": "1fb4bdd1-5249-4ff3-8247-f099e0447854",
   "metadata": {},
   "outputs": [
    {
     "data": {
      "text/plain": [
       "[2, 3]"
      ]
     },
     "execution_count": 7,
     "metadata": {},
     "output_type": "execute_result"
    }
   ],
   "source": [
    "my_list\n",
    "my_list[:2:]"
   ]
  },
  {
   "cell_type": "code",
   "execution_count": 3,
   "id": "71401705-0b57-4ac1-af5f-a7a83e537f20",
   "metadata": {},
   "outputs": [
    {
     "name": "stdout",
     "output_type": "stream",
     "text": [
      "a complex number in mathematics is a number containing imaginary and real both parts in mathematics imaginary is represented by a symbol i while in python it is represented by j . i is invalid in python\n"
     ]
    }
   ],
   "source": [
    "print('a complex number in mathematics is a number containing imaginary and real both parts in mathematics imaginary is represented by a symbol i while in python it is represented by j . i is invalid in python')\n",
    "\n"
   ]
  },
  {
   "cell_type": "code",
   "execution_count": 4,
   "id": "35a337ee-1051-42a4-893a-38ff944ac2d6",
   "metadata": {},
   "outputs": [],
   "source": [
    "s = 8 + 7j"
   ]
  },
  {
   "cell_type": "code",
   "execution_count": 5,
   "id": "61f94ffc-443c-405f-a088-85b0d216c8a6",
   "metadata": {},
   "outputs": [
    {
     "data": {
      "text/plain": [
       "(8+7j)"
      ]
     },
     "execution_count": 5,
     "metadata": {},
     "output_type": "execute_result"
    }
   ],
   "source": [
    "s"
   ]
  },
  {
   "cell_type": "code",
   "execution_count": 6,
   "id": "ef63ab87-d056-4f81-ade2-3b9434c46480",
   "metadata": {},
   "outputs": [
    {
     "data": {
      "text/plain": [
       "8.0"
      ]
     },
     "execution_count": 6,
     "metadata": {},
     "output_type": "execute_result"
    }
   ],
   "source": [
    "s.real"
   ]
  },
  {
   "cell_type": "code",
   "execution_count": 7,
   "id": "09073398-a6b1-47e4-ab8c-aa178f15c67b",
   "metadata": {},
   "outputs": [
    {
     "data": {
      "text/plain": [
       "7.0"
      ]
     },
     "execution_count": 7,
     "metadata": {},
     "output_type": "execute_result"
    }
   ],
   "source": [
    "s.imag"
   ]
  },
  {
   "cell_type": "code",
   "execution_count": 9,
   "id": "2c38290f-d939-4883-b668-10039ad5f991",
   "metadata": {},
   "outputs": [],
   "source": [
    "age = 25"
   ]
  },
  {
   "cell_type": "code",
   "execution_count": 10,
   "id": "09ed3b64-53c7-4c39-948b-3879c6b7167c",
   "metadata": {},
   "outputs": [
    {
     "data": {
      "text/plain": [
       "int"
      ]
     },
     "execution_count": 10,
     "metadata": {},
     "output_type": "execute_result"
    }
   ],
   "source": [
    "type(age)"
   ]
  },
  {
   "cell_type": "code",
   "execution_count": 11,
   "id": "785758c5-4eb1-4a65-a896-62bd2a56126a",
   "metadata": {},
   "outputs": [],
   "source": [
    "price = 9.99"
   ]
  },
  {
   "cell_type": "code",
   "execution_count": 12,
   "id": "ad5c5fcd-7b69-4e42-b178-053ba5ba8a03",
   "metadata": {},
   "outputs": [
    {
     "data": {
      "text/plain": [
       "float"
      ]
     },
     "execution_count": 12,
     "metadata": {},
     "output_type": "execute_result"
    }
   ],
   "source": [
    "type(price)"
   ]
  },
  {
   "cell_type": "code",
   "execution_count": 13,
   "id": "d406fc6b-a753-4c6d-866c-9aff65566a5d",
   "metadata": {},
   "outputs": [],
   "source": [
    "name = 'Sachin Rao'"
   ]
  },
  {
   "cell_type": "code",
   "execution_count": 14,
   "id": "98fe2dae-350b-43a8-8cde-8d85d50a8cae",
   "metadata": {},
   "outputs": [
    {
     "data": {
      "text/plain": [
       "str"
      ]
     },
     "execution_count": 14,
     "metadata": {},
     "output_type": "execute_result"
    }
   ],
   "source": [
    "type(name)"
   ]
  },
  {
   "cell_type": "code",
   "execution_count": 15,
   "id": "770eec72-374a-42df-a6d6-581448529cde",
   "metadata": {},
   "outputs": [
    {
     "name": "stdout",
     "output_type": "stream",
     "text": [
      "Sachin Rao\n"
     ]
    }
   ],
   "source": [
    "print(name)"
   ]
  },
  {
   "cell_type": "code",
   "execution_count": 28,
   "id": "f31c9f40-23c2-40f9-bd26-ba27c48a5e58",
   "metadata": {},
   "outputs": [
    {
     "name": "stdout",
     "output_type": "stream",
     "text": [
      "World\n"
     ]
    }
   ],
   "source": [
    "string = (\"Hello,World!\")\n",
    "substring = string[6:11:]\n",
    "print(substring)"
   ]
  },
  {
   "cell_type": "code",
   "execution_count": null,
   "id": "b5d0c585-ac85-43f1-98d0-f839da40f187",
   "metadata": {},
   "outputs": [],
   "source": [
    "# Create a variable named \"is_student\" and assign it a boolean value indicating whether you are\n",
    "currently a student or not."
   ]
  },
  {
   "cell_type": "code",
   "execution_count": 2,
   "id": "59d08f51-5d92-4afb-bf76-a2cf39bf1ab5",
   "metadata": {},
   "outputs": [],
   "source": [
    "l = \"is_student\""
   ]
  },
  {
   "cell_type": "code",
   "execution_count": 3,
   "id": "6e20fbdb-f28a-4e2a-afc4-d955cc27dfb9",
   "metadata": {},
   "outputs": [
    {
     "data": {
      "text/plain": [
       "'is_student'"
      ]
     },
     "execution_count": 3,
     "metadata": {},
     "output_type": "execute_result"
    }
   ],
   "source": [
    "l"
   ]
  },
  {
   "cell_type": "code",
   "execution_count": 4,
   "id": "45c1ce8c-1e98-4bdc-ba7f-e7c3b0dc6fe0",
   "metadata": {},
   "outputs": [
    {
     "ename": "SyntaxError",
     "evalue": "invalid syntax (1994442683.py, line 4)",
     "output_type": "error",
     "traceback": [
      "\u001b[0;36m  Cell \u001b[0;32mIn[4], line 4\u001b[0;36m\u001b[0m\n\u001b[0;31m    elif:\u001b[0m\n\u001b[0m        ^\u001b[0m\n\u001b[0;31mSyntaxError\u001b[0m\u001b[0;31m:\u001b[0m invalid syntax\n"
     ]
    }
   ],
   "source": [
    "for i in l:\n",
    "    if i ==1:\n",
    "        print('i m a current student')\n",
    "    elif:\n",
    "        print('i m not a current student')"
   ]
  },
  {
   "cell_type": "code",
   "execution_count": null,
   "id": "ea6afafa-3d01-49cf-a91b-2498494621bf",
   "metadata": {},
   "outputs": [],
   "source": []
  }
 ],
 "metadata": {
  "kernelspec": {
   "display_name": "Python 3 (ipykernel)",
   "language": "python",
   "name": "python3"
  },
  "language_info": {
   "codemirror_mode": {
    "name": "ipython",
    "version": 3
   },
   "file_extension": ".py",
   "mimetype": "text/x-python",
   "name": "python",
   "nbconvert_exporter": "python",
   "pygments_lexer": "ipython3",
   "version": "3.10.8"
  }
 },
 "nbformat": 4,
 "nbformat_minor": 5
}
